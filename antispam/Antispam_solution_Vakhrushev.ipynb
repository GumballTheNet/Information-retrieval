{
 "cells": [
  {
   "cell_type": "code",
   "execution_count": 3,
   "metadata": {},
   "outputs": [],
   "source": [
    "from __future__ import division\n",
    "from scipy.sparse import csr_matrix\n",
    "from sklearn.preprocessing import StandardScaler\n",
    "from sklearn.neighbors import KNeighborsClassifier\n",
    "import sklearn\n",
    "import scipy\n",
    "from sklearn.model_selection import cross_validate\n",
    "import xgboost\n",
    "from sklearn.ensemble import RandomForestClassifier\n",
    "from sklearn.ensemble import GradientBoostingClassifier\n",
    "from sklearn.preprocessing import StandardScaler\n",
    "import numpy as np\n",
    "from sklearn.naive_bayes import BernoulliNB\n",
    "import sklearn\n",
    "from multiprocessing import Process, Queue\n",
    "import ctypes\n",
    "from heapq import nlargest \n",
    "from tqdm import tqdm\n",
    "from functools import reduce\n",
    "import zlib\n",
    "from nltk.corpus import stopwords\n",
    "import functools\n",
    "from bs4 import BeautifulSoup, Comment\n",
    "from sklearn.feature_extraction.text import TfidfVectorizer\n",
    "from sklearn.feature_extraction.text import TfidfTransformer\n",
    "import base64\n",
    "import csv\n",
    "import gzip\n",
    "import zlib\n",
    "import pymorphy2\n",
    "import re\n",
    "import numpy as np\n",
    "from collections import namedtuple\n",
    "from bs4 import BeautifulSoup\n",
    "import logging\n",
    "%matplotlib inline\n",
    "import matplotlib.pyplot as plt\n",
    "from urllib.parse import urlparse\n",
    "import lightgbm"
   ]
  },
  {
   "cell_type": "code",
   "execution_count": 4,
   "metadata": {},
   "outputs": [],
   "source": [
    "TRACE_NUM = 1000\n",
    "#reload(logging)\n",
    "logging.basicConfig(format='%(asctime)s %(levelname)s:%(message)s', level=logging.INFO, datefmt='%H:%M:%S')\n",
    "\n",
    "def trace(items_num, trace_num=TRACE_NUM):\n",
    "    if items_num % trace_num == 0: logging.info(\"Complete items %05d\" % items_num)\n",
    "        \n",
    "def trace_worker(items_num, worker_id, trace_num=TRACE_NUM):\n",
    "    if items_num % trace_num == 0: logging.info(\"Complete items %05d in worker_id %d\" % (items_num, worker_id))"
   ]
  },
  {
   "cell_type": "markdown",
   "metadata": {},
   "source": [
    "### Утилиты"
   ]
  },
  {
   "cell_type": "markdown",
   "metadata": {},
   "source": [
    "#### Декораторы"
   ]
  },
  {
   "cell_type": "code",
   "execution_count": 5,
   "metadata": {},
   "outputs": [
    {
     "name": "stdout",
     "output_type": "stream",
     "text": [
      "Requirement already satisfied: unicode in /home/sargeras/miniconda3/envs/sphere-py37/lib/python3.7/site-packages (2.7)\r\n"
     ]
    }
   ],
   "source": [
    "!pip install unicode"
   ]
  },
  {
   "cell_type": "code",
   "execution_count": 6,
   "metadata": {},
   "outputs": [],
   "source": [
    "def to_utf8(text):\n",
    "    if isinstance(text, str): text = text.encode('utf8')\n",
    "    return text\n",
    "\n",
    "def convert2unicode(f):\n",
    "    def tmp(text):\n",
    "        if not isinstance(text, str): text = text.decode('utf8')\n",
    "        return f(text)\n",
    "    return tmp\n",
    "\n",
    "def convert2lower(f):\n",
    "    def tmp(text):        \n",
    "        return f(text.lower())\n",
    "    return tmp\n",
    "\n",
    "#P.S. Декораторы могут усложнять отладку, так что от них вполне можно отказаться и воспользоваться copy-paste"
   ]
  },
  {
   "cell_type": "markdown",
   "metadata": {},
   "source": [
    "### Извлечение текста из html"
   ]
  },
  {
   "cell_type": "markdown",
   "metadata": {},
   "source": [
    "#### Извлечение текста при помощи дополнительных библиотек"
   ]
  },
  {
   "cell_type": "code",
   "execution_count": 7,
   "metadata": {},
   "outputs": [],
   "source": [
    "def html2text_bs(raw_html):\n",
    "    from bs4 import BeautifulSoup\n",
    "    \"\"\"\n",
    "    Тут производится извлечения из html текста\n",
    "    \"\"\"\n",
    "    soup = BeautifulSoup(raw_html, \"html.parser\")\n",
    "    [s.extract() for s in soup(['script', 'style'])]\n",
    "    return soup.get_text()\n",
    "\n",
    "def html2text_bs_visible(raw_html):\n",
    "    from bs4 import BeautifulSoup\n",
    "    \"\"\"\n",
    "    Тут производится извлечения из html текста, который видим пользователю\n",
    "    \"\"\"\n",
    "    soup = BeautifulSoup(raw_html, \"html.parser\")    \n",
    "    [s.extract() for s in soup(['style', 'script', '[document]', 'head', 'title'])]\n",
    "    return soup.get_text()\n",
    "\n",
    "def html2text_boilerpipe(raw_html):\n",
    "    import boilerpipe\n",
    "    \"\"\"\n",
    "    еще одна библиотека очень хорошо извлекающая именно видимый пользователю текст,\n",
    "    но она завязана на java\n",
    "    \"\"\"\n",
    "    pass"
   ]
  },
  {
   "cell_type": "markdown",
   "metadata": {},
   "source": [
    "#### Выбираем какой метод для конвертации html в текст будет основным"
   ]
  },
  {
   "cell_type": "code",
   "execution_count": 8,
   "metadata": {},
   "outputs": [],
   "source": [
    "\n",
    "html2text = html2text_bs"
   ]
  },
  {
   "cell_type": "markdown",
   "metadata": {},
   "source": [
    "#### Методы для токенизации текста"
   ]
  },
  {
   "cell_type": "code",
   "execution_count": 9,
   "metadata": {},
   "outputs": [],
   "source": [
    "@convert2lower\n",
    "@convert2unicode\n",
    "def easy_tokenizer(text):\n",
    "    word = str()\n",
    "    for symbol in text:\n",
    "        if symbol.isalnum(): word += symbol\n",
    "        elif word:\n",
    "            yield word\n",
    "            word = str()\n",
    "    if word: yield word\n",
    "\n",
    "PYMORPHY_CACHE = {}\n",
    "MORPH = None\n",
    "#hint, чтобы установка pymorphy2 не была бы обязательной\n",
    "def get_lemmatizer():\n",
    "    global MORPH\n",
    "    if MORPH is None: MORPH = pymorphy2.MorphAnalyzer()\n",
    "    return MORPH\n",
    "\n",
    "@convert2lower\n",
    "@convert2unicode\n",
    "def pymorphy_tokenizer(text):\n",
    "    global PYMORPHY_CACHE\n",
    "    for word in easy_tokenizer(text):\n",
    "        word_hash = hash(word)\n",
    "        if word_hash not in PYMORPHY_CACHE:\n",
    "            PYMORPHY_CACHE[word_hash] = get_lemmatizer().parse(word)[0].normal_form          \n",
    "        yield PYMORPHY_CACHE[word_hash]"
   ]
  },
  {
   "cell_type": "markdown",
   "metadata": {},
   "source": [
    "#### Основная функция, которая вызывается для преобразования html в список слов"
   ]
  },
  {
   "cell_type": "code",
   "execution_count": 10,
   "metadata": {},
   "outputs": [],
   "source": [
    "def html2word(raw_html, to_text=html2text, tokenizer=pymorphy_tokenizer):\n",
    "    return tokenizer(to_text(raw_html).lower())"
   ]
  },
  {
   "cell_type": "code",
   "execution_count": 11,
   "metadata": {},
   "outputs": [],
   "source": [
    "stopwords_english = set(stopwords.words('english') )\n",
    "stopwords_russian = set(stopwords.words('russian') )\n",
    "stopwords = list(stopwords_russian) + list(stopwords_english)\n",
    "all_stopwords = set(stopwords)\n"
   ]
  },
  {
   "cell_type": "code",
   "execution_count": 211,
   "metadata": {},
   "outputs": [],
   "source": [
    "spam_words = {}"
   ]
  },
  {
   "cell_type": "code",
   "execution_count": 11,
   "metadata": {},
   "outputs": [],
   "source": [
    "def work(html_data):\n",
    "    try:\n",
    "        if not isinstance(html_data, str): html_data = html_data.decode('utf-8')\n",
    "    except UnicodeDecodeError:\n",
    "        html_data = \"\"\n",
    "    soup = BeautifulSoup(html_data, \"html.parser\")\n",
    "    words = pymorphy_tokenizer(soup.get_text())\n",
    "    word = []\n",
    "    for k in words:\n",
    "        if k not in all_stopwords:\n",
    "            word.append(k) \n",
    "    wordi, counts = np.unique(np.array(word), return_counts = True)\n",
    "    for i in range(len(wordi)):     \n",
    "        if spam_words.get(wordi[i], -1) == -1:\n",
    "            spam_words[wordi[i]] = 0\n",
    "        else:\n",
    "            spam_words[wordi[i]] += counts[i]\n",
    "    return"
   ]
  },
  {
   "cell_type": "code",
   "execution_count": 12,
   "metadata": {},
   "outputs": [],
   "source": [
    "EightHighest ={'скачать': 61962,\n",
    "'порно': 57658,\n",
    "'секс': 31950,\n",
    "'фото': 30431,\n",
    "'0':26098,\n",
    "'бесплатно': 22183,\n",
    "'знакомство': 19131,\n",
    "'драйвер': 18748,\n",
    "'http': 18051} #по результатам работы функции work\n"
   ]
  },
  {
   "cell_type": "code",
   "execution_count": 13,
   "metadata": {},
   "outputs": [],
   "source": [
    "corpus_doc = []\n",
    "corpus_word = []\n",
    "corpus_dat = []\n",
    "all_words = {}\n",
    "j = 0\n",
    "doc_ids = {}\n",
    "m = 0"
   ]
  },
  {
   "cell_type": "code",
   "execution_count": 14,
   "metadata": {},
   "outputs": [],
   "source": [
    "def dictionary(url_id,html_data):#парсим ВЕСЬ текст\n",
    "    global j\n",
    "    global m\n",
    "    doc_ids[url_id] = m\n",
    "    try:\n",
    "        if not isinstance(html_data, str): html_data = html_data.decode('utf-8')\n",
    "    except UnicodeDecodeError:\n",
    "        html_data = \"\"\n",
    "    \n",
    "    soup = BeautifulSoup(html_data, \"html.parser\")\n",
    "    words = pymorphy_tokenizer(soup.get_text())\n",
    "    word = []\n",
    "    for k in words:\n",
    "        if k not in all_stopwords:\n",
    "            word.append(k.lower())\n",
    "\n",
    "    loc_set = set()\n",
    "    for i in range(len(word)):\n",
    "        if all_words.get(word[i], -1) == -1:\n",
    "            all_words[word[i]] = j\n",
    "            j += 1\n",
    "        if word[i] not in loc_set:\n",
    "            corpus_doc.append(m)\n",
    "            corpus_word.append(all_words.get(word[i]))\n",
    "            corpus_dat.append(word.count(word[i]))\n",
    "            loc_set.add(word[i])\n",
    "    m += 1\n",
    "    return"
   ]
  },
  {
   "cell_type": "code",
   "execution_count": 15,
   "metadata": {},
   "outputs": [],
   "source": [
    "corpus_doc1 = []\n",
    "corpus_word1 = []\n",
    "corpus_dat1 = []\n",
    "all_words1 = {}\n",
    "j1 = 0\n",
    "doc_ids1 = {}\n",
    "m1 = 0"
   ]
  },
  {
   "cell_type": "code",
   "execution_count": 16,
   "metadata": {},
   "outputs": [],
   "source": [
    "def dictionary_u(url_id,url): #парсим url\n",
    "    global m1\n",
    "    global j1\n",
    "    doc_ids1[url_id] = m1\n",
    "\n",
    "    word = []\n",
    "    url1 = urlparse(url)\n",
    "    site = url1.netloc.split('.')   \n",
    "    for k in site:\n",
    "        if not k.isdigit() and  k != '' and k not in all_stopwords:\n",
    "            word.append(k.lower())\n",
    "    path = url1.path.split('/')\n",
    "    for a in path:\n",
    "        a = a.split('-')\n",
    "        for b in a:\n",
    "            b = b.split('_')\n",
    "            for c in b:\n",
    "                if  not c.isdigit() and c != '' and c not in all_stopwords:\n",
    "                    word.append(c.lower())\n",
    "    loc_set = set()\n",
    "    for i in range(len(word)):\n",
    "        if all_words1.get(word[i], -1) == -1:\n",
    "            all_words1[word[i]] = j\n",
    "            j1 += 1\n",
    "        if word[i] not in loc_set:\n",
    "            corpus_doc1.append(m1)\n",
    "            corpus_word1.append(all_words.get(word[i]))\n",
    "            corpus_dat1.append(word.count(word[i]))\n",
    "            loc_set.add(word[i])\n",
    "    m1 += 1\n",
    "    return"
   ]
  },
  {
   "cell_type": "code",
   "execution_count": 17,
   "metadata": {},
   "outputs": [],
   "source": [
    "b = 0"
   ]
  },
  {
   "cell_type": "code",
   "execution_count": 18,
   "metadata": {},
   "outputs": [],
   "source": [
    "def write(html_data): #парсим ВИДИМЫЙ текст\n",
    "    global b\n",
    "    soup = BeautifulSoup(html_data, \"html.parser\")\n",
    "    [s.extract() for s in soup(['style', 'script', '[document]', 'head', 'title'])]\n",
    "    words = pymorphy_tokenizer(soup.get_text()) if soup is not None else []\n",
    "    text = ''\n",
    "    for k in words:\n",
    "        if k not in all_stopwords:\n",
    "            text += (' ' + k.lower())\n",
    "    with open('title_train/doc'+str(b) , 'w') as fout:\n",
    "        fout.write(text)\n",
    "        b += 1"
   ]
  },
  {
   "cell_type": "code",
   "execution_count": 19,
   "metadata": {},
   "outputs": [],
   "source": [
    "def calc_features(doc_id, url, html_data):\n",
    "    zipp = zlib.compress(html_data)\n",
    "    try:\n",
    "        if not isinstance(html_data, str): html_data = html_data.decode('utf-8')\n",
    "    except UnicodeDecodeError:\n",
    "        html_data = \"\"\n",
    "    dot_html = 0 if url[-5:].find(\"html\")== -1 else 1\n",
    "    url_len = len(url)\n",
    "    dot = url.count(\".\")\n",
    "  \n",
    "    soup = BeautifulSoup(html_data, \"html.parser\")\n",
    "    script_num = len(soup.find_all('script'))\n",
    "    imgs_num = len(soup.find_all('img'))\n",
    "    css_files = len(soup.findAll('link',{'rel':'stylesheet'}))\n",
    "    objects = len(soup.find_all('object'))\n",
    "    hid = len(soup.select( '[style~=\"visibility:hidden\"]' )) + len( soup.select( '[style~=\"display:none\"]'))\n",
    "    span = len(soup.find_all('span'))\n",
    "    div = len(soup.find_all('div'))\n",
    "    [s.extract() for s in soup(['script', 'style'])]\n",
    "    title = soup.find('title')\n",
    "    if title is not None: title = title.get_text()\n",
    "    else: title = \" \"\n",
    "    \n",
    "    words = soup.get_text()\n",
    "    words_num = len(words.split())  \n",
    "    avg_word_len = float(functools.reduce(lambda prev, cur: prev + len(cur), words, 0)) / float(words_num) if words_num != 0 else 0.0\n",
    "    \n",
    "    title_words_num = len(title.split())\n",
    "    title_array = []\n",
    "    for k in pymorphy_tokenizer(title):\n",
    "        title_array.append(k)\n",
    "    title_spamness = 0\n",
    "    for cur_word in  EightHighest:\n",
    "        title_spamness += title_array.count(cur_word) * EightHighest[cur_word]\n",
    "    anchor = soup.find_all('a')\n",
    "    anchor_num = len(anchor)\n",
    "\n",
    "    anchor_words_num = len(functools.reduce(lambda prev, cur: prev + cur.text, anchor, \"\").split())\n",
    "    compression_level = float(len(zipp)) / float(len(html_data)) if len(html_data) != 0 else 0\n",
    "   \n",
    "    strong_num = len(soup.find_all('strong'))\n",
    "    b_num = len(soup.find_all('b'))\n",
    "    \n",
    "    [s.extract() for s in soup(['style', 'script', '[document]', 'head', 'title'])] \n",
    "    visible_words = len(soup.get_text().split())\n",
    "    percent = float(visible_words) / float(words_num) if words_num != 0 else 0\n",
    "    word_array_normalize = []\n",
    "\n",
    "    for k in  pymorphy_tokenizer(words):\n",
    "       \n",
    "        word_array_normalize.append(k)\n",
    "        \n",
    "    percent_same = float(len(set(word_array_normalize))) / float(words_num) if words_num != 0 else 0\n",
    "    signif = float(np.max(np.unique(np.array(words.split()), return_counts = True)[1])) / float(words_num) if words_num != 0 else 0\n",
    "\n",
    "    spamness = 0\n",
    "    for cur_word in  EightHighest.keys():\n",
    "        spamness += word_array_normalize.count(cur_word) * EightHighest[cur_word]\n",
    "    return [\n",
    "            script_num, \n",
    "            css_files, \n",
    "            objects,\n",
    "            hid, \n",
    "            span, \n",
    "            div,\n",
    "            title_spamness,\n",
    "            signif,\n",
    "            words_num, \n",
    "            avg_word_len, \n",
    "            title_words_num, \n",
    "            anchor_words_num, \n",
    "            compression_level, \n",
    "            script_num, \n",
    "            anchor_num,\n",
    "            percent,\n",
    "            visible_words, \n",
    "            imgs_num, \n",
    "            strong_num + b_num,  \n",
    "            spamness,\n",
    "            url_len,\n",
    "            dot,\n",
    "            dot_html,\n",
    "            percent_same\n",
    "           ] "
   ]
  },
  {
   "cell_type": "code",
   "execution_count": 22,
   "metadata": {},
   "outputs": [],
   "source": [
    "\n",
    "DocItem = namedtuple('DocItem', ['doc_id', 'is_spam', 'url', 'features'])\n",
    "\n",
    "def load_csv(input_file_name, calc_features_f):    \n",
    "    \"\"\"\n",
    "    Загружаем данные и извлекаем на лету признаки\n",
    "    Сам контент не сохраняется, чтобы уменьшить потребление памяти - чтобы\n",
    "    можно было запускать даже на ноутбуках в классе\n",
    "    \"\"\"\n",
    "    \n",
    "    with gzip.open(input_file_name) if input_file_name.endswith('gz') else open(input_file_name)  as input_file:            \n",
    "        headers = input_file.readline()\n",
    "        \n",
    "        for i, line in enumerate(input_file):\n",
    "            trace(i)\n",
    "            parts = line.strip().decode('utf-8').split('\\t')\n",
    "            url_id = int(parts[0])                                        \n",
    "            mark = bool(int(parts[1]))                    \n",
    "            url = parts[2]\n",
    "            pageInb64 = parts[3]\n",
    "            html_data = base64.b64decode(pageInb64)\n",
    "            dictionary(url_id, html_data)\n",
    "            html_data = base64.b64decode(pageInb64)\n",
    "            write(html_data)\n",
    "            dictionary_u(url_id,url)\n",
    "            features = calc_features_f(url_id, url, html_data)\n",
    "        \n",
    "            yield DocItem(url_id, mark, url, features)   \n",
    "            pass\n",
    "        trace(i, 1)  "
   ]
  },
  {
   "cell_type": "markdown",
   "metadata": {},
   "source": [
    "** Обрабатываем входной файл **\n",
    "<br>\n",
    "Формат - поля разделенные табуляциями\n",
    "<br>\n",
    "0 - идентификатор документа\n",
    "<br>\n",
    "1 - метка класса 0 - не спам, 1 - спам\n",
    "<br>\n",
    "2 - урл документа\n",
    "<br>\n",
    "3 - документ в кодировке base64\n",
    "\n",
    "Выходной формат - массив кортежей вида\n",
    "(doc_id, is_spam, url, html_data)"
   ]
  },
  {
   "cell_type": "code",
   "execution_count": 23,
   "metadata": {
    "scrolled": false
   },
   "outputs": [
    {
     "name": "stderr",
     "output_type": "stream",
     "text": [
      "22:43:08 INFO:Complete items 00000\n",
      "22:44:36 INFO:Complete items 01000\n",
      "22:45:41 INFO:Complete items 02000\n",
      "22:46:48 INFO:Complete items 03000\n",
      "22:48:00 INFO:Complete items 04000\n",
      "22:49:21 INFO:Complete items 05000\n",
      "22:50:43 INFO:Complete items 06000\n",
      "22:51:52 INFO:Complete items 07000\n",
      "22:51:54 INFO:Complete items 07043\n"
     ]
    },
    {
     "name": "stdout",
     "output_type": "stream",
     "text": [
      "CPU times: user 8min 44s, sys: 894 ms, total: 8min 45s\n",
      "Wall time: 8min 45s\n"
     ]
    }
   ],
   "source": [
    "%%time\n",
    "\n",
    "TRAIN_DATA_FILE = 'kaggle_train_data_tab_new.csv.gz'\n",
    "train_docs=list(load_csv(TRAIN_DATA_FILE, calc_features))"
   ]
  },
  {
   "cell_type": "code",
   "execution_count": 24,
   "metadata": {},
   "outputs": [],
   "source": [
    "X_train = []\n",
    "Y_train = []\n",
    "for doc_num, doc in enumerate(train_docs):\n",
    "    X_train.append(doc.features)\n",
    "    Y_train.append(doc.is_spam)\n",
    "X_train = np.array(X_train)\n",
    "Y_train = np.array(Y_train)"
   ]
  },
  {
   "cell_type": "code",
   "execution_count": 25,
   "metadata": {},
   "outputs": [],
   "source": [
    "titles = ['script_num', \n",
    "            'css_files', \n",
    "            'objects',\n",
    "            'hid', \n",
    "            'span', \n",
    "            'div',\n",
    "            'title_spamness',\n",
    "            'signif',\n",
    "            'words_num', \n",
    "            'avg_word_len', \n",
    "            'title_words_num', \n",
    "            'anchor_words_num', \n",
    "            'compression_level', \n",
    "            'script_num', \n",
    "            'anchor_num',\n",
    "            'percent',\n",
    "            'visible_words', \n",
    "            'imgs_num', \n",
    "            'strong_num + b_num',  \n",
    "            'spamness',\n",
    "            'url_len',\n",
    "            'dot',\n",
    "            'dot_html',\n",
    "            'percent_same']"
   ]
  },
  {
   "cell_type": "code",
   "execution_count": 28,
   "metadata": {},
   "outputs": [
    {
     "data": {
      "image/png": "[encoded data removed]",
      "text/plain": [
       "<Figure size 432x288 with 1 Axes>"
      ]
     },
     "metadata": {
      "needs_background": "light"
     },
     "output_type": "display_data"
    },
    {
     "data": {
      "image/png": "[encoded data removed]",
      "text/plain": [
       "<Figure size 432x288 with 1 Axes>"
      ]
     },
     "metadata": {
      "needs_background": "light"
     },
     "output_type": "display_data"
    },
    {
     "data": {
      "image/png": "[encoded data removed]",
      "text/plain": [
       "<Figure size 432x288 with 1 Axes>"
      ]
     },
     "metadata": {
      "needs_background": "light"
     },
     "output_type": "display_data"
    },
    {
     "data": {
      "image/png": "[encoded data removed]",
      "text/plain": [
       "<Figure size 432x288 with 1 Axes>"
      ]
     },
     "metadata": {
      "needs_background": "light"
     },
     "output_type": "display_data"
    },
    {
     "data": {
      "image/png": "[encoded data removed]",
      "text/plain": [
       "<Figure size 432x288 with 1 Axes>"
      ]
     },
     "metadata": {
      "needs_background": "light"
     },
     "output_type": "display_data"
    },
    {
     "data": {
      "image/png": "[encoded data removed]",
      "text/plain": [
       "<Figure size 432x288 with 1 Axes>"
      ]
     },
     "metadata": {
      "needs_background": "light"
     },
     "output_type": "display_data"
    },
    {
     "data": {
      "image/png": "[encoded data removed]",
      "text/plain": [
       "<Figure size 432x288 with 1 Axes>"
      ]
     },
     "metadata": {
      "needs_background": "light"
     },
     "output_type": "display_data"
    },
    {
     "data": {
      "image/png": "[encoded data removed]",
      "text/plain": [
       "<Figure size 432x288 with 1 Axes>"
      ]
     },
     "metadata": {
      "needs_background": "light"
     },
     "output_type": "display_data"
    },
    {
     "data": {
      "image/png": "[encoded data removed]",
      "text/plain": [
       "<Figure size 432x288 with 1 Axes>"
      ]
     },
     "metadata": {
      "needs_background": "light"
     },
     "output_type": "display_data"
    },
    {
     "data": {
      "image/png": "[encoded data removed]",
      "text/plain": [
       "<Figure size 432x288 with 1 Axes>"
      ]
     },
     "metadata": {
      "needs_background": "light"
     },
     "output_type": "display_data"
    },
    {
     "data": {
      "image/png": "[encoded data removed]",
      "text/plain": [
       "<Figure size 432x288 with 1 Axes>"
      ]
     },
     "metadata": {
      "needs_background": "light"
     },
     "output_type": "display_data"
    },
    {
     "data": {
      "image/png": "[encoded data removed]",
      "text/plain": [
       "<Figure size 432x288 with 1 Axes>"
      ]
     },
     "metadata": {
      "needs_background": "light"
     },
     "output_type": "display_data"
    },
    {
     "data": {
      "image/png": "[encoded data removed]",
      "text/plain": [
       "<Figure size 432x288 with 1 Axes>"
      ]
     },
     "metadata": {
      "needs_background": "light"
     },
     "output_type": "display_data"
    },
    {
     "data": {
      "image/png": "[encoded data removed]",
      "text/plain": [
       "<Figure size 432x288 with 1 Axes>"
      ]
     },
     "metadata": {
      "needs_background": "light"
     },
     "output_type": "display_data"
    },
    {
     "data": {
      "image/png": "[encoded data removed]",
      "text/plain": [
       "<Figure size 432x288 with 1 Axes>"
      ]
     },
     "metadata": {
      "needs_background": "light"
     },
     "output_type": "display_data"
    },
    {
     "data": {
      "image/png": "[encoded data removed]",
      "text/plain": [
       "<Figure size 432x288 with 1 Axes>"
      ]
     },
     "metadata": {
      "needs_background": "light"
     },
     "output_type": "display_data"
    },
    {
     "data": {
      "image/png": "[encoded data removed]",
      "text/plain": [
       "<Figure size 432x288 with 1 Axes>"
      ]
     },
     "metadata": {
      "needs_background": "light"
     },
     "output_type": "display_data"
    },
    {
     "data": {
      "image/png": "[encoded data removed]",
      "text/plain": [
       "<Figure size 432x288 with 1 Axes>"
      ]
     },
     "metadata": {
      "needs_background": "light"
     },
     "output_type": "display_data"
    },
    {
     "data": {
      "image/png": "[encoded data removed]",
      "text/plain": [
       "<Figure size 432x288 with 1 Axes>"
      ]
     },
     "metadata": {
      "needs_background": "light"
     },
     "output_type": "display_data"
    },
    {
     "data": {
      "image/png": "[encoded data removed]",
      "text/plain": [
       "<Figure size 432x288 with 1 Axes>"
      ]
     },
     "metadata": {
      "needs_background": "light"
     },
     "output_type": "display_data"
    },
    {
     "data": {
      "image/png": "[encoded data removed]",
      "text/plain": [
       "<Figure size 432x288 with 1 Axes>"
      ]
     },
     "metadata": {
      "needs_background": "light"
     },
     "output_type": "display_data"
    },
    {
     "data": {
      "image/png": "[encoded data removed]",
      "text/plain": [
       "<Figure size 432x288 with 1 Axes>"
      ]
     },
     "metadata": {
      "needs_background": "light"
     },
     "output_type": "display_data"
    },
    {
     "data": {
      "image/png": "[encoded data removed]",
      "text/plain": [
       "<Figure size 432x288 with 1 Axes>"
      ]
     },
     "metadata": {
      "needs_background": "light"
     },
     "output_type": "display_data"
    },
    {
     "data": {
      "image/png": "[encoded data removed]",
      "text/plain": [
       "<Figure size 432x288 with 1 Axes>"
      ]
     },
     "metadata": {
      "needs_background": "light"
     },
     "output_type": "display_data"
    }
   ],
   "source": [
    "for i in range(len(doc.features)):\n",
    "    spam = [doc.features[i] for doc in train_docs if doc[1] == True]\n",
    "    not_spam = [doc.features[i] for doc in train_docs if doc[1] == False]\n",
    "    plt.hist(spam, color='red', density=True, alpha=0.7, label='spam')\n",
    "    plt.hist(not_spam, color='green', density=True, alpha=0.7, label='not_spam')\n",
    "    plt.title(titles[i])\n",
    "    plt.legend()\n",
    "    plt.show()"
   ]
  },
  {
   "cell_type": "code",
   "execution_count": 194,
   "metadata": {},
   "outputs": [],
   "source": [
    "corpus_doc_t = []\n",
    "corpus_word_t = []\n",
    "corpus_dat_t = []\n",
    "doc_ids_t = {}\n",
    "m_t = 0\n",
    "doc_pos_t = []"
   ]
  },
  {
   "cell_type": "code",
   "execution_count": 195,
   "metadata": {},
   "outputs": [],
   "source": [
    "corpus_doc_t1 = []\n",
    "corpus_word_t1 = []\n",
    "corpus_dat_t1 = []\n",
    "doc_ids_t1 = {}\n",
    "m_t1 = 0\n",
    "doc_pos_t1 = []"
   ]
  },
  {
   "cell_type": "code",
   "execution_count": 196,
   "metadata": {},
   "outputs": [],
   "source": [
    "def dictionary_u_t(url_id,url):\n",
    "    global m_t1\n",
    "    doc_ids_t1[url_id] = m_t1\n",
    "\n",
    "    word = []\n",
    "    url1 = urlparse(url)\n",
    "    site = url1.netloc.split('.')   \n",
    "    for k in site:\n",
    "        if not k.isdigit() and  k != '' and k not in all_stopwords:\n",
    "            word.append(k.lower())\n",
    "    path = url1.path.split('/')\n",
    "    for a in path:\n",
    "        a = a.split('-')\n",
    "        for b in a:\n",
    "            b = b.split('_')\n",
    "            for c in b:\n",
    "                if  not c.isdigit() and c != '' and c not in all_stopwords:\n",
    "                    word.append(c.lower())\n",
    "    loc_set = set()\n",
    "    for i in range(len(word)):\n",
    "        if all_words1.get(word[i], -1) == -1:\n",
    "            continue\n",
    "        if word[i] not in loc_set:\n",
    "            corpus_doc_t1.append(m_t1)\n",
    "            corpus_word_t1.append(all_words.get(word[i]))\n",
    "            corpus_dat_t1.append(word.count(word[i]))\n",
    "            loc_set.add(word[i])\n",
    "    m_t1 += 1\n",
    "    return"
   ]
  },
  {
   "cell_type": "code",
   "execution_count": 197,
   "metadata": {},
   "outputs": [],
   "source": [
    "def dictionary_t(url_id,html_data):\n",
    "    global m_t\n",
    "    doc_ids_t[url_id] = m_t\n",
    "    try:\n",
    "        if not isinstance(html_data, str): html_data = html_data.decode('utf-8')\n",
    "    except UnicodeDecodeError:\n",
    "        html_data = \"\"\n",
    "    soup = BeautifulSoup(html_data, \"html.parser\")\n",
    "    words = pymorphy_tokenizer(soup.get_text())\n",
    "    word = []\n",
    "    for k in words:\n",
    "        if k not in all_stopwords:\n",
    "            word.append(k.lower()) \n",
    "    loc_set = set()\n",
    "    for i in range(len(word)):\n",
    "        if all_words.get(word[i], -1) == -1:\n",
    "            continue\n",
    "        if word[i] not in loc_set:\n",
    "            corpus_doc_t.append(m_t)\n",
    "            corpus_word_t.append(all_words.get(word[i]))\n",
    "            corpus_dat_t.append(word.count(word[i]))\n",
    "            loc_set.add(word[i])\n",
    "    m_t += 1\n",
    "    return"
   ]
  },
  {
   "cell_type": "code",
   "execution_count": 198,
   "metadata": {},
   "outputs": [],
   "source": [
    "b1 = 0"
   ]
  },
  {
   "cell_type": "code",
   "execution_count": 199,
   "metadata": {},
   "outputs": [],
   "source": [
    "def write_t(html_data):\n",
    "    global b1\n",
    "    soup = BeautifulSoup(html_data, \"html.parser\")\n",
    "    [s.extract() for s in soup(['style', 'script', '[document]', 'head', 'title'])]\n",
    "    words = pymorphy_tokenizer(soup.get_text()) if soup is not None else []\n",
    "    text = ''\n",
    "    for k in words:\n",
    "        if k not in all_stopwords:\n",
    "            text += (' ' + k.lower())\n",
    "    with open('title_test/doc'+str(b1) , 'w') as fout:\n",
    "        fout.write(text)\n",
    "        b1 += 1"
   ]
  },
  {
   "cell_type": "code",
   "execution_count": 208,
   "metadata": {},
   "outputs": [],
   "source": [
    "DocItem = namedtuple('DocItem', ['doc_id', 'is_spam', 'url', 'features'])\n",
    "\n",
    "def load_csv_t(input_file_name, calc_features_f):    \n",
    "    \"\"\"\n",
    "    Загружаем данные и извлекаем на лету признаки\n",
    "    Сам контент не сохраняется, чтобы уменьшить потребление памяти - чтобы\n",
    "    можно было запускать даже на ноутбуках в классе\n",
    "    \"\"\"\n",
    "    \n",
    "    with gzip.open(input_file_name) if input_file_name.endswith('gz') else open(input_file_name)  as input_file:            \n",
    "        headers = input_file.readline()\n",
    "        \n",
    "        for i, line in enumerate(input_file):\n",
    "            trace(i)\n",
    "            parts = line.strip().decode('utf-8').split('\\t')\n",
    "            url_id = int(parts[0])     \n",
    "            doc_pos_t.append(url_id)\n",
    "            mark = bool(int(parts[1]))                    \n",
    "            url = parts[2]\n",
    "            pageInb64 = parts[3]\n",
    "            html_data = base64.b64decode(pageInb64)\n",
    "            dictionary_t(url_id,html_data)\n",
    "            dictionary_u_t(url_id,html_data)\n",
    "            write_t(html_data)\n",
    "            features = calc_features_f(url_id, url, html_data)   \n",
    "            yield DocItem(url_id, mark, url, features)  \n",
    "        pass            \n",
    "                \n",
    "        trace(i, 1)\n",
    "                "
   ]
  },
  {
   "cell_type": "code",
   "execution_count": 209,
   "metadata": {},
   "outputs": [],
   "source": [
    "TEST_DATA_FILE  = 'kaggle_test_data_tab_new.csv.gz'\n",
    "test_docs = load_csv_t(TEST_DATA_FILE, calc_features)"
   ]
  },
  {
   "cell_type": "code",
   "execution_count": 210,
   "metadata": {},
   "outputs": [
    {
     "name": "stderr",
     "output_type": "stream",
     "text": [
      "20:03:11 INFO:Complete items 00000\n",
      "20:07:54 INFO:Complete items 01000\n",
      "20:10:47 INFO:Complete items 02000\n",
      "20:13:43 INFO:Complete items 03000\n",
      "20:15:32 INFO:Complete items 04000\n",
      "20:17:05 INFO:Complete items 05000\n",
      "20:19:16 INFO:Complete items 06000\n",
      "20:20:46 INFO:Complete items 07000\n",
      "20:22:50 INFO:Complete items 08000\n",
      "20:24:57 INFO:Complete items 09000\n",
      "20:28:02 INFO:Complete items 10000\n",
      "20:29:38 INFO:Complete items 11000\n",
      "20:31:18 INFO:Complete items 12000\n",
      "20:32:37 INFO:Complete items 13000\n",
      "20:34:31 INFO:Complete items 14000\n",
      "20:35:58 INFO:Complete items 15000\n",
      "20:37:33 INFO:Complete items 16000\n",
      "20:37:36 INFO:Complete items 16038\n"
     ]
    }
   ],
   "source": [
    "X_test = []\n",
    "for  doc in test_docs:\n",
    "    X_test.append(doc.features)\n",
    "X_test = np.array(X_test)"
   ]
  },
  {
   "cell_type": "code",
   "execution_count": 24,
   "metadata": {},
   "outputs": [],
   "source": [
    "scaler = StandardScaler(with_mean=False)\n"
   ]
  },
  {
   "cell_type": "code",
   "execution_count": 86,
   "metadata": {},
   "outputs": [],
   "source": [
    "\n",
    "\n",
    "vectorizer_html = sklearn.feature_extraction.text.TfidfVectorizer(input='filename', stop_words=stopwords, token_pattern=u'[a-zа-яё]+', max_features=10000, ngram_range=(1,2))\n"
   ]
  },
  {
   "cell_type": "code",
   "execution_count": 87,
   "metadata": {},
   "outputs": [],
   "source": [
    "X_html = vectorizer_html.fit_transform(list([\"test/{}\".format(\"doc\"+str(i)) for i in range(0, 7044)]) + list([\"true_test/{}\".format(\"doc\"+str(i)) for i in range(0, 16039)]))\n",
    "#sparse матрица видимых текстов"
   ]
  },
  {
   "cell_type": "code",
   "execution_count": 175,
   "metadata": {},
   "outputs": [],
   "source": [
    "\n",
    "X_train = np.load('X_train1.npy')\n",
    "X_test = np.load('X_test1.npy')\n",
    "perfecto = scipy.sparse.load_npz('perfectoo.npz') #sparse матрица текстов\n",
    "perfecto_u = scipy.sparse.load_npz('perfectoo_u.npz') #sparse матрица url\n",
    "perfecto_t = scipy.sparse.load_npz('perfectoo_t.npz') #матрица текстов для test\n",
    "perfecto_u_t= scipy.sparse.load_npz('perfectoo_u_t.npz') #url для test\n",
    "Y_train = np.load('Y_train.npy')\n",
    "\n"
   ]
  },
  {
   "cell_type": "code",
   "execution_count": 177,
   "metadata": {},
   "outputs": [],
   "source": [
    "k = sklearn.feature_extraction.text.TfidfTransformer(use_idf = True)"
   ]
  },
  {
   "cell_type": "code",
   "execution_count": 178,
   "metadata": {},
   "outputs": [],
   "source": [
    "k.fit(perfecto_u)\n",
    "perfecto_u = k.transform(perfecto_u)\n",
    "perfecto_u_t = k.transform(perfecto_u_t)"
   ]
  },
  {
   "cell_type": "code",
   "execution_count": 179,
   "metadata": {},
   "outputs": [
    {
     "data": {
      "text/plain": [
       "TfidfTransformer(norm='l2', smooth_idf=True, sublinear_tf=False, use_idf=True)"
      ]
     },
     "execution_count": 179,
     "metadata": {},
     "output_type": "execute_result"
    }
   ],
   "source": [
    "k.fit(perfecto)"
   ]
  },
  {
   "cell_type": "code",
   "execution_count": 180,
   "metadata": {},
   "outputs": [],
   "source": [
    "perfecto = k.transform(perfecto)"
   ]
  },
  {
   "cell_type": "code",
   "execution_count": 181,
   "metadata": {},
   "outputs": [],
   "source": [
    "perfecto_t = k.transform(perfecto_t)"
   ]
  },
  {
   "cell_type": "code",
   "execution_count": 58,
   "metadata": {},
   "outputs": [],
   "source": [
    "feat = np.zeros((7044,3))\n",
    "for i in range(7044):\n",
    "    topsix = np.sort((X_html[i,:].toarray())).reshape(10000)\n",
    "    feat[i][0] = np.mean(topsix[-5:])\n",
    "    feat[i][1] = np.mean(topsix)\n",
    "    feat[i][2] = np.mean(topsix[-10])\n"
   ]
  },
  {
   "cell_type": "code",
   "execution_count": 59,
   "metadata": {},
   "outputs": [],
   "source": [
    "feat_t = np.zeros((16039,3))\n",
    "for i in range(16039):\n",
    "    topsix = np.sort((X_html[7044 + i,:].toarray())).reshape(10000)\n",
    "    feat_t[i][0] = np.mean(topsix[-5:])\n",
    "    feat_t[i][1] = np.mean(topsix)\n",
    "    feat_t[i][2] = np.mean(topsix[-10])"
   ]
  },
  {
   "cell_type": "code",
   "execution_count": 184,
   "metadata": {},
   "outputs": [],
   "source": [
    "X_train = np.hstack((X_train, feat))\n"
   ]
  },
  {
   "cell_type": "code",
   "execution_count": 185,
   "metadata": {},
   "outputs": [],
   "source": [
    "X_test = np.hstack((X_test, feat_t))\n"
   ]
  },
  {
   "cell_type": "code",
   "execution_count": 170,
   "metadata": {},
   "outputs": [
    {
     "name": "stderr",
     "output_type": "stream",
     "text": [
      "/home/sargeras/miniconda3/envs/sphere-py37/lib/python3.7/site-packages/sklearn/model_selection/_search.py:266: UserWarning: The total space of parameters 1 is smaller than n_iter=100. Running 1 iterations. For exhaustive searches, use GridSearchCV.\n",
      "  % (grid_size, self.n_iter, grid_size), UserWarning)\n"
     ]
    },
    {
     "name": "stdout",
     "output_type": "stream",
     "text": [
      "{'solver': 'newton-cg', 'C': 50}\n",
      "0.9732388538672136\n",
      "LogisticRegression(C=50, class_weight='balanced', dual=False,\n",
      "                   fit_intercept=True, intercept_scaling=1, l1_ratio=None,\n",
      "                   max_iter=500, multi_class='warn', n_jobs=None, penalty='l2',\n",
      "                   random_state=None, solver='newton-cg', tol=0.0001, verbose=0,\n",
      "                   warm_start=False)\n",
      "CPU times: user 14.4 s, sys: 228 ms, total: 14.6 s\n",
      "Wall time: 9.64 s\n"
     ]
    }
   ],
   "source": [
    "\n",
    "%%time\n",
    "\n",
    "param_dist = {'C': [5,10,15,20,25,50],\n",
    "              'max_iter': scipy.stats.randint(100, 200),\n",
    "            'solver': ['newton-cg' ]\n",
    "             } \n",
    "\n",
    "n_iter_search = 100\n",
    "clf =   sklearn.linear_model.LogisticRegression(class_weight = 'balanced',solver = 'newton-cg',max_iter = 500)\n",
    "search = sklearn.model_selection.RandomizedSearchCV(clf, param_distributions=param_dist, n_iter=n_iter_search, n_jobs=4, cv=3, scoring='f1', random_state=123)\n",
    "\n",
    "search.fit(perfecto, Y_train)\n",
    "print(search.best_params_)\n",
    "print(search.best_score_)\n",
    "print(best_model)\n"
   ]
  },
  {
   "cell_type": "code",
   "execution_count": 174,
   "metadata": {},
   "outputs": [
    {
     "name": "stderr",
     "output_type": "stream",
     "text": [
      "/home/sargeras/miniconda3/envs/sphere-py37/lib/python3.7/site-packages/sklearn/model_selection/_search.py:266: UserWarning: The total space of parameters 1 is smaller than n_iter=100. Running 1 iterations. For exhaustive searches, use GridSearchCV.\n",
      "  % (grid_size, self.n_iter, grid_size), UserWarning)\n"
     ]
    },
    {
     "name": "stdout",
     "output_type": "stream",
     "text": [
      "{'solver': 'newton-cg', 'C': 100}\n",
      "0.9590041529848655\n",
      "CPU times: user 435 ms, sys: 4.05 ms, total: 439 ms\n",
      "Wall time: 285 ms\n"
     ]
    }
   ],
   "source": [
    "\n",
    "%%time\n",
    "\n",
    "param_dist = {'C': [5,10,15,20,25,100],\n",
    "              'max_iter': scipy.stats.randint(100, 200),\n",
    "            'solver': ['newton-cg' ]\n",
    "             } \n",
    "\n",
    "\n",
    "n_iter_search = 100\n",
    "clf =   sklearn.linear_model.LogisticRegression(class_weight = 'balanced',solver = 'newton-cg',max_iter = 500)\n",
    "search = sklearn.model_selection.RandomizedSearchCV(clf, param_distributions=param_dist, n_iter=n_iter_search, n_jobs=4, cv=3, scoring='f1', random_state=123)\n",
    "\n",
    "search.fit(perfecto, Y_train)\n",
    "print(search.best_params_)\n",
    "print(search.best_score_)\n",
    "best_model = search.best_estimator_\n",
    "print(best_model"
   ]
  },
  {
   "cell_type": "code",
   "execution_count": 100,
   "metadata": {},
   "outputs": [
    {
     "data": {
      "text/plain": [
       "0.9796977021059715"
      ]
     },
     "execution_count": 100,
     "metadata": {},
     "output_type": "execute_result"
    }
   ],
   "source": [
    "ff = lightgbm.LGBMClassifier(n_estimators=800, min_samples_leaf = 9,max_deepth=15, learning_rate = 0.1,n_jobs=-1)\n",
    "cv_results = cross_validate(ff, X_train, Y_train, cv=3)\n",
    "np.mean(cv_results['test_score'])"
   ]
  },
  {
   "cell_type": "code",
   "execution_count": 101,
   "metadata": {},
   "outputs": [
    {
     "data": {
      "text/plain": [
       "0.9755813876582007"
      ]
     },
     "execution_count": 101,
     "metadata": {},
     "output_type": "execute_result"
    }
   ],
   "source": [
    "xgb_model = xgboost.XGBClassifier(n_estimators=800, min_samples_leaf = 8,max_deepth=17, learning_rate = 0.1,n_jobs=-1)\n",
    "np.mean(cross_validate(xgb_model, X_train, Y_train, cv=3)['test_score'])"
   ]
  },
  {
   "cell_type": "code",
   "execution_count": 371,
   "metadata": {},
   "outputs": [
    {
     "name": "stdout",
     "output_type": "stream",
     "text": [
      "Fitting 3 folds for each of 100 candidates, totalling 300 fits\n"
     ]
    },
    {
     "name": "stderr",
     "output_type": "stream",
     "text": [
      "[Parallel(n_jobs=4)]: Using backend LokyBackend with 4 concurrent workers.\n",
      "[Parallel(n_jobs=4)]: Done  24 tasks      | elapsed:   16.3s\n",
      "[Parallel(n_jobs=4)]: Done 120 tasks      | elapsed:  1.5min\n",
      "[Parallel(n_jobs=4)]: Done 280 tasks      | elapsed:  3.6min\n",
      "[Parallel(n_jobs=4)]: Done 300 out of 300 | elapsed:  3.9min finished\n"
     ]
    },
    {
     "name": "stdout",
     "output_type": "stream",
     "text": [
      "{'n_estimators': 1400, 'min_samples_leaf': 11, 'max_depth': 11}\n",
      "0.9735945485519591\n",
      "LGBMClassifier(boosting_type='gbdt', class_weight=None, colsample_bytree=1.0,\n",
      "               importance_type='split', learning_rate=0.1, max_depth=11,\n",
      "               min_child_samples=20, min_child_weight=0.001,\n",
      "               min_samples_leaf=11, min_split_gain=0.0, n_estimators=1400,\n",
      "               n_jobs=-1, num_leaves=31, objective=None, random_state=None,\n",
      "               reg_alpha=0.0, reg_lambda=0.0, silent=True, subsample=1.0,\n",
      "               subsample_for_bin=200000, subsample_freq=0)\n"
     ]
    }
   ],
   "source": [
    "params = {\n",
    "    'n_estimators':range(600, 1500,100),\n",
    "    'max_depth':range(5,20,2),\n",
    "    'min_samples_leaf': range(5,20, 2),\n",
    "    }\n",
    "xgb =  lightgbm.LGBMClassifier()\n",
    "folds = 3\n",
    "param_comb = 100\n",
    "\n",
    "skf = StratifiedKFold(n_splits=folds, shuffle = True, random_state = 1001)\n",
    "\n",
    "find_best = sklearn.model_selection.RandomizedSearchCV(xgb, param_distributions=params, n_iter=param_comb, n_jobs=4, cv=skf.split(X_train,Y_train), verbose=3, random_state=1001 )\n",
    "find_best.fit(X_train,Y_train)\n",
    "print(find_best.best_params_)\n",
    "print(find_best.best_score_)\n",
    "best_model = find_best.best_estimator_\n",
    "print(best_model)\n"
   ]
  },
  {
   "cell_type": "code",
   "execution_count": 186,
   "metadata": {},
   "outputs": [
    {
     "name": "stdout",
     "output_type": "stream",
     "text": [
      "0.9827648114901257   1.0\n"
     ]
    }
   ],
   "source": [
    "k = [1.0]\n",
    "xgb_model =  lightgbm.LGBMClassifier(n_estimators=800, min_samples_leaf = 9,max_deepth=15, learning_rate = 0.1,n_jobs=-1)\n",
    "classifier = sklearn.linear_model.LogisticRegression(C = 50,class_weight = 'balanced',solver = 'newton-cg',max_iter = 500)\n",
    "clf_u =  sklearn.linear_model.LogisticRegression(C = 100,class_weight = 'balanced',max_iter = 500,solver = 'newton-cg')\n",
    "for l in k:\n",
    "    clf_u.fit(perfecto_u[:2300],Y_train[:2300])\n",
    "    classifier.fit(perfecto[:2300],Y_train[:2300])\n",
    "    xgb_model.fit(X_train[:2300], Y_train[:2300])\n",
    "    clf_new.fit(X_html[:2300], Y_train[:2300])\n",
    "    pred = (classifier.predict_proba(perfecto[2300:]) +\n",
    "    clf_u.predict_proba(perfecto_u[2300:]))[:,1] \n",
    "    pred1 = xgb_model.predict_proba(X_train[2300:])[:,1] + pred >= 1.5\n",
    "    print(sklearn.metrics.f1_score(pred1, Y_train[2300:]), ' ',l)"
   ]
  },
  {
   "cell_type": "code",
   "execution_count": 187,
   "metadata": {},
   "outputs": [],
   "source": [
    "xgb_model =lightgbm.LGBMClassifier(n_estimators=800, min_samples_leaf = 9,max_deepth=15, learning_rate = 0.1,n_jobs=-1)\n",
    "classifier = sklearn.linear_model.LogisticRegression(C = 50,class_weight = 'balanced',solver = 'newton-cg',max_iter = 500)\n",
    "clf_u =  sklearn.linear_model.LogisticRegression(C = 100,class_weight = 'balanced',max_iter = 500,solver = 'newton-cg')"
   ]
  },
  {
   "cell_type": "code",
   "execution_count": 188,
   "metadata": {},
   "outputs": [],
   "source": [
    "clf_u.fit(perfecto_u,Y_train)\n",
    "classifier.fit(perfecto,Y_train)\n",
    "xgb_model.fit(X_train, Y_train)\n",
    "pred = (classifier.predict_proba(perfecto_t) +\n",
    "clf_u.predict_proba(perfecto_u_t) +\n",
    "xgb_model.predict_proba(X_test))[:,1] >= 1.5"
   ]
  },
  {
   "cell_type": "code",
   "execution_count": 189,
   "metadata": {},
   "outputs": [],
   "source": [
    "with open('my_submission34.csv' , 'w') as fout:\n",
    "    writer = csv.writer(fout)\n",
    "    writer.writerow(['Id','Prediction'])\n",
    "    for i  in range(len(doc_pos_t)):\n",
    "        prediction = 1 if pred[doc_ids_t[doc_pos_t[i]]] else 0\n",
    "        writer.writerow([doc_pos_t[i], prediction])"
   ]
  }
 ],
 "metadata": {
  "anaconda-cloud": {},
  "kernelspec": {
   "display_name": "Python 3",
   "language": "python",
   "name": "python3"
  },
  "language_info": {
   "codemirror_mode": {
    "name": "ipython",
    "version": 3
   },
   "file_extension": ".py",
   "mimetype": "text/x-python",
   "name": "python",
   "nbconvert_exporter": "python",
   "pygments_lexer": "ipython3",
   "version": "3.7.4"
  }
 },
 "nbformat": 4,
 "nbformat_minor": 1
}
