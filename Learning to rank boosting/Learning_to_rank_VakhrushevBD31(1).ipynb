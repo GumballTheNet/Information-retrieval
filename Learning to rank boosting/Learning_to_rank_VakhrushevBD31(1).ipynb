{
 "cells": [
  {
   "cell_type": "code",
   "execution_count": 1,
   "metadata": {
    "id": "69NNIObZJytR"
   },
   "outputs": [],
   "source": [
    "import numpy as np\n",
    "from collections import defaultdict\n",
    "from xgboost import XGBRegressor\n",
    "from sklearn.datasets import load_svmlight_file"
   ]
  },
  {
   "cell_type": "code",
   "execution_count": 3,
   "metadata": {
    "id": "Y5BEdlHYJytU"
   },
   "outputs": [],
   "source": [
    "X, y, query_ids = load_svmlight_file('l2r/train.txt', query_id=True)"
   ]
  },
  {
   "cell_type": "code",
   "execution_count": 4,
   "metadata": {
    "id": "GM2WvEhqJytc"
   },
   "outputs": [],
   "source": [
    "docs = defaultdict(list)\n",
    "for doc_id, query_id in enumerate(query_ids):\n",
    "    docs[query_id].append(doc_id)\n",
    "    \n"
   ]
  },
  {
   "cell_type": "code",
   "execution_count": 5,
   "metadata": {
    "id": "16YDspFyibfF"
   },
   "outputs": [],
   "source": [
    "\n",
    "y_arr = dict()\n",
    "for query_id in docs:\n",
    "    cur_docs = docs[query_id]\n",
    "    y_cur = y[cur_docs]\n",
    "    y_cur = np.sign(y_cur.reshape(-1, 1) - y_cur).astype(int)\n",
    "    y_arr[query_id] = y_cur"
   ]
  },
  {
   "cell_type": "code",
   "execution_count": 6,
   "metadata": {
    "id": "hqbDKONPJyte"
   },
   "outputs": [],
   "source": [
    "\n",
    "def objective(y_true, y_pred):\n",
    "    gradient = np.zeros(y_true.shape[0])\n",
    "    hessian = np.zeros(y_true.shape[0])\n",
    "    for query_id in docs:\n",
    "        cur_docs = np.array(docs[query_id])\n",
    "        h = y_pred[cur_docs]\n",
    "        h = h.reshape(-1, 1) - h\n",
    "        h[h > 50] = 50\n",
    "        h[h < -50] = -50\n",
    "        y_cur = y_arr[query_id]\n",
    "        dC_ds = 1.0 / (1 + np.exp( y_cur * h)) \n",
    "        gradient[cur_docs] = -np.sum(y_cur * dC_ds, axis=1) \n",
    "        hessian[cur_docs] = np.sum( dC_ds * (1 - dC_ds), axis=1)\n",
    "    hessian[np.isclose(hessian, 0.0)] = 1.0\n",
    "    return gradient, hessian"
   ]
  },
  {
   "cell_type": "code",
   "execution_count": 7,
   "metadata": {
    "colab": {
     "base_uri": "https://localhost:8080/"
    },
    "id": "msoCkN_RJytg",
    "outputId": "62670cb2-b878-4c97-9e0b-5ae918ca6c9c"
   },
   "outputs": [
    {
     "name": "stdout",
     "output_type": "stream",
     "text": [
      "[11:59:43] WARNING: /workspace/src/objective/regression_obj.cu:152: reg:linear is now deprecated in favor of reg:squarederror.\n",
      "CPU times: user 1h 22min 8s, sys: 3min 42s, total: 1h 25min 50s\n",
      "Wall time: 1h 25min 51s\n"
     ]
    }
   ],
   "source": [
    "%%time\n",
    "params = {'objective': objective, 'max_depth': 8, 'n_estimators': 3800, 'n_jobs': 2, 'subsample': 0.755, 'random_state':8}\n",
    "model1 = XGBRegressor(tree_method='gpu_hist',**params)\n",
    "model1.fit(X, y)"
   ]
  },
  {
   "cell_type": "code",
   "execution_count": 8,
   "metadata": {
    "id": "jq_zy6azJytk"
   },
   "outputs": [],
   "source": [
    "X_test, y_test, query_ids_test = load_svmlight_file('drive/My Drive/l2r/test.txt', query_id=True)\n",
    "y_pred = model1.predict(X_test)\n",
    "test= defaultdict(list)\n",
    "for doc_id, query_id in enumerate(query_ids_test):\n",
    "    test[query_id].append(doc_id)"
   ]
  },
  {
   "cell_type": "code",
   "execution_count": 9,
   "metadata": {
    "id": "m015F7R_Jytm"
   },
   "outputs": [],
   "source": [
    "with open(\"submission.csv\", 'w') as write_file:\n",
    "    print(\"QueryId,DocumentId\", file=write_file)\n",
    "    for query_id in test:\n",
    "        docs_t = test[query_id]\n",
    "        y_pred_i = y_pred[docs_t]\n",
    "        ids = np.argsort(y_pred_i)[::-1]\n",
    "        docs = np.array(docs_t)[ids]\n",
    "        for doc_id in docs:\n",
    "            print(f\"{query_id},{doc_id+1}\", file=write_file)"
   ]
  }
 ],
 "metadata": {
  "accelerator": "GPU",
  "colab": {
   "collapsed_sections": [],
   "name": "Learning_to_rank_ipynb_txt_(1)_(2)(1).ipynb",
   "provenance": [],
   "toc_visible": true
  },
  "kernelspec": {
   "display_name": "Python 3",
   "language": "python",
   "name": "python3"
  },
  "language_info": {
   "codemirror_mode": {
    "name": "ipython",
    "version": 3
   },
   "file_extension": ".py",
   "mimetype": "text/x-python",
   "name": "python",
   "nbconvert_exporter": "python",
   "pygments_lexer": "ipython3",
   "version": "3.8.3"
  }
 },
 "nbformat": 4,
 "nbformat_minor": 1
}
